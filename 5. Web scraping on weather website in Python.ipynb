{
 "cells": [
  {
   "cell_type": "markdown",
   "id": "b3754072",
   "metadata": {},
   "source": [
    "# Python: Web scraping on weather website"
   ]
  },
  {
   "cell_type": "markdown",
   "id": "d0a93f81",
   "metadata": {},
   "source": [
    "**Goal**: Extract weather forecast data for a desired period!"
   ]
  },
  {
   "cell_type": "markdown",
   "id": "39feb94b",
   "metadata": {},
   "source": [
    "## Exploration of the web page structure"
   ]
  },
  {
   "cell_type": "markdown",
   "id": "cc069d7f",
   "metadata": {},
   "source": [
    "For this section, we try to answer the following questions:\n",
    "\n",
    "* load the page containing the weather forecast\n",
    "\n",
    "* use BeautifulSoup to analyze the HTML code\n",
    "\n",
    "* find the seven-day-forecast id and assign the result to the seven_day variable\n",
    "\n",
    "* within seven_day, select each forecast individually\n",
    "\n",
    "* extract and display the first element"
   ]
  },
  {
   "cell_type": "code",
   "execution_count": 1,
   "id": "4d938317",
   "metadata": {},
   "outputs": [],
   "source": [
    "import requests\n",
    "from bs4 import BeautifulSoup"
   ]
  },
  {
   "cell_type": "code",
   "execution_count": 2,
   "id": "72b9e049",
   "metadata": {},
   "outputs": [],
   "source": [
    "weather_website = requests.get(\"https://forecast.weather.gov/MapClick.php?lat=37.7772&lon=-122.4168#.Yf19fOrMJEZ\")\n",
    "parser = BeautifulSoup(weather_website.content, 'html.parser')"
   ]
  },
  {
   "cell_type": "code",
   "execution_count": 3,
   "id": "ba8fdf57",
   "metadata": {},
   "outputs": [],
   "source": [
    "seven_day = parser.find(id=\"seven-day-forecast\")"
   ]
  },
  {
   "cell_type": "code",
   "execution_count": 4,
   "id": "c541d94e",
   "metadata": {},
   "outputs": [
    {
     "data": {
      "text/plain": [
       "[<div class=\"tombstone-container\">\n",
       " <p class=\"period-name\">Today<br/><br/></p>\n",
       " <p><img alt=\"Today: Sunny, with a high near 74. North wind 5 to 11 mph becoming west northwest in the afternoon. \" class=\"forecast-icon\" src=\"newimages/medium/few.png\" title=\"Today: Sunny, with a high near 74. North wind 5 to 11 mph becoming west northwest in the afternoon. \"/></p><p class=\"short-desc\">Sunny</p><p class=\"temp temp-high\">High: 74 °F</p></div>,\n",
       " <div class=\"tombstone-container\">\n",
       " <p class=\"period-name\">Tonight<br/><br/></p>\n",
       " <p><img alt=\"Tonight: Widespread haze after 3am. Partly cloudy, with a low around 51. West wind 5 to 8 mph becoming calm  after midnight. \" class=\"forecast-icon\" src=\"DualImage.php?i=nfew&amp;j=hz\" title=\"Tonight: Widespread haze after 3am. Partly cloudy, with a low around 51. West wind 5 to 8 mph becoming calm  after midnight. \"/></p><p class=\"short-desc\">Mostly Clear<br/>then Haze</p><p class=\"temp temp-low\">Low: 51 °F</p></div>,\n",
       " <div class=\"tombstone-container\">\n",
       " <p class=\"period-name\">Saturday<br/><br/></p>\n",
       " <p><img alt=\"Saturday: Widespread haze before 9am. Sunny, with a high near 72. North northeast wind around 6 mph. \" class=\"forecast-icon\" src=\"DualImage.php?i=hz&amp;j=skc\" title=\"Saturday: Widespread haze before 9am. Sunny, with a high near 72. North northeast wind around 6 mph. \"/></p><p class=\"short-desc\">Haze then<br/>Sunny</p><p class=\"temp temp-high\">High: 72 °F</p></div>,\n",
       " <div class=\"tombstone-container\">\n",
       " <p class=\"period-name\">Saturday<br/>Night</p>\n",
       " <p><img alt=\"Saturday Night: Mostly clear, with a low around 51. West wind around 6 mph becoming calm  in the evening. \" class=\"forecast-icon\" src=\"newimages/medium/nfew.png\" title=\"Saturday Night: Mostly clear, with a low around 51. West wind around 6 mph becoming calm  in the evening. \"/></p><p class=\"short-desc\">Mostly Clear</p><p class=\"temp temp-low\">Low: 51 °F</p></div>,\n",
       " <div class=\"tombstone-container\">\n",
       " <p class=\"period-name\">Sunday<br/><br/></p>\n",
       " <p><img alt=\"Sunday: Sunny, with a high near 71. Light and variable wind becoming west northwest 5 to 10 mph in the afternoon. \" class=\"forecast-icon\" src=\"newimages/medium/few.png\" title=\"Sunday: Sunny, with a high near 71. Light and variable wind becoming west northwest 5 to 10 mph in the afternoon. \"/></p><p class=\"short-desc\">Sunny</p><p class=\"temp temp-high\">High: 71 °F</p></div>,\n",
       " <div class=\"tombstone-container\">\n",
       " <p class=\"period-name\">Sunday<br/>Night</p>\n",
       " <p><img alt=\"Sunday Night: Widespread haze between 4am and 5am. Partly cloudy, with a low around 51.\" class=\"forecast-icon\" src=\"DualImage.php?i=nsct&amp;j=hz\" title=\"Sunday Night: Widespread haze between 4am and 5am. Partly cloudy, with a low around 51.\"/></p><p class=\"short-desc\">Partly Cloudy<br/>then Haze</p><p class=\"temp temp-low\">Low: 51 °F</p></div>,\n",
       " <div class=\"tombstone-container\">\n",
       " <p class=\"period-name\">Monday<br/><br/></p>\n",
       " <p><img alt=\"Monday: Partly sunny, with a high near 61.\" class=\"forecast-icon\" src=\"newimages/medium/bkn.png\" title=\"Monday: Partly sunny, with a high near 61.\"/></p><p class=\"short-desc\">Partly Sunny</p><p class=\"temp temp-high\">High: 61 °F</p></div>,\n",
       " <div class=\"tombstone-container\">\n",
       " <p class=\"period-name\">Monday<br/>Night</p>\n",
       " <p><img alt=\"Monday Night: Partly cloudy, with a low around 47.\" class=\"forecast-icon\" src=\"newimages/medium/nsct.png\" title=\"Monday Night: Partly cloudy, with a low around 47.\"/></p><p class=\"short-desc\">Partly Cloudy</p><p class=\"temp temp-low\">Low: 47 °F</p></div>,\n",
       " <div class=\"tombstone-container\">\n",
       " <p class=\"period-name\">Tuesday<br/><br/></p>\n",
       " <p><img alt=\"Tuesday: Sunny, with a high near 62.\" class=\"forecast-icon\" src=\"newimages/medium/few.png\" title=\"Tuesday: Sunny, with a high near 62.\"/></p><p class=\"short-desc\">Sunny</p><p class=\"temp temp-high\">High: 62 °F</p></div>]"
      ]
     },
     "execution_count": 4,
     "metadata": {},
     "output_type": "execute_result"
    }
   ],
   "source": [
    "seven_day_forecast = seven_day.find_all(class_=\"tombstone-container\")\n",
    "seven_day_forecast"
   ]
  },
  {
   "cell_type": "code",
   "execution_count": 5,
   "id": "32b64a55",
   "metadata": {},
   "outputs": [
    {
     "name": "stdout",
     "output_type": "stream",
     "text": [
      "<div class=\"tombstone-container\">\n",
      " <p class=\"period-name\">\n",
      "  Today\n",
      "  <br/>\n",
      "  <br/>\n",
      " </p>\n",
      " <p>\n",
      "  <img alt=\"Today: Sunny, with a high near 74. North wind 5 to 11 mph becoming west northwest in the afternoon. \" class=\"forecast-icon\" src=\"newimages/medium/few.png\" title=\"Today: Sunny, with a high near 74. North wind 5 to 11 mph becoming west northwest in the afternoon. \"/>\n",
      " </p>\n",
      " <p class=\"short-desc\">\n",
      "  Sunny\n",
      " </p>\n",
      " <p class=\"temp temp-high\">\n",
      "  High: 74 °F\n",
      " </p>\n",
      "</div>\n"
     ]
    }
   ],
   "source": [
    "today = seven_day_forecast[0]\n",
    "print(today.prettify())"
   ]
  },
  {
   "cell_type": "markdown",
   "id": "55052a9b",
   "metadata": {},
   "source": [
    "## Extract all information from an element"
   ]
  },
  {
   "cell_type": "markdown",
   "id": "8d3d642d",
   "metadata": {},
   "source": [
    "For this section, we try to answer the following questions:\n",
    "\n",
    "* extract the name of the forecast object, the short description and the temperature\n",
    "\n",
    "* extract the title of the img object"
   ]
  },
  {
   "cell_type": "code",
   "execution_count": 6,
   "id": "39b23f79",
   "metadata": {},
   "outputs": [
    {
     "name": "stdout",
     "output_type": "stream",
     "text": [
      "Today\n"
     ]
    }
   ],
   "source": [
    "period = today.find(class_=\"period-name\").get_text()\n",
    "print(period)"
   ]
  },
  {
   "cell_type": "code",
   "execution_count": 7,
   "id": "f6ed3358",
   "metadata": {},
   "outputs": [
    {
     "name": "stdout",
     "output_type": "stream",
     "text": [
      "Sunny\n"
     ]
    }
   ],
   "source": [
    "short_desc = today.find(class_=\"short-desc\").get_text()\n",
    "print(short_desc)"
   ]
  },
  {
   "cell_type": "code",
   "execution_count": 8,
   "id": "9646a92a",
   "metadata": {},
   "outputs": [
    {
     "name": "stdout",
     "output_type": "stream",
     "text": [
      "High: 74 °F\n"
     ]
    }
   ],
   "source": [
    "temp = today.find(class_=\"temp temp-high\").get_text()\n",
    "print(temp)"
   ]
  },
  {
   "cell_type": "code",
   "execution_count": 9,
   "id": "911a0f37",
   "metadata": {},
   "outputs": [
    {
     "data": {
      "text/plain": [
       "<img alt=\"Today: Sunny, with a high near 74. North wind 5 to 11 mph becoming west northwest in the afternoon. \" class=\"forecast-icon\" src=\"newimages/medium/few.png\" title=\"Today: Sunny, with a high near 74. North wind 5 to 11 mph becoming west northwest in the afternoon. \"/>"
      ]
     },
     "execution_count": 9,
     "metadata": {},
     "output_type": "execute_result"
    }
   ],
   "source": [
    "img = today.find(\"img\")\n",
    "img"
   ]
  },
  {
   "cell_type": "code",
   "execution_count": 10,
   "id": "d9bf3f08",
   "metadata": {},
   "outputs": [
    {
     "name": "stdout",
     "output_type": "stream",
     "text": [
      "<class 'bs4.element.Tag'>\n"
     ]
    }
   ],
   "source": [
    "print(type(img))"
   ]
  },
  {
   "cell_type": "code",
   "execution_count": 11,
   "id": "ecabb395",
   "metadata": {},
   "outputs": [
    {
     "name": "stdout",
     "output_type": "stream",
     "text": [
      "Today: Sunny, with a high near 74. North wind 5 to 11 mph becoming west northwest in the afternoon. \n"
     ]
    }
   ],
   "source": [
    "title = img[\"title\"]\n",
    "print(title)"
   ]
  },
  {
   "cell_type": "markdown",
   "id": "37728f4c",
   "metadata": {},
   "source": [
    "## Extract all information from the page"
   ]
  },
  {
   "cell_type": "markdown",
   "id": "3b377cf2",
   "metadata": {},
   "source": [
    "For this section, we try to answer the following questions:\n",
    "\n",
    "* select all objects of the class period-name inside an object of class tombstone-container in the element seven-day\n",
    "\n",
    "* use a list comprehension then call the get_text() method on each object\n",
    "\n",
    "* do the same with the short description, temperatures and titles"
   ]
  },
  {
   "cell_type": "code",
   "execution_count": 12,
   "id": "6e4c2c86",
   "metadata": {},
   "outputs": [],
   "source": [
    "period_tags = seven_day.select(\".tombstone-container .period-name\")"
   ]
  },
  {
   "cell_type": "code",
   "execution_count": 13,
   "id": "400a54f4",
   "metadata": {},
   "outputs": [
    {
     "data": {
      "text/plain": [
       "['Today',\n",
       " 'Tonight',\n",
       " 'Saturday',\n",
       " 'SaturdayNight',\n",
       " 'Sunday',\n",
       " 'SundayNight',\n",
       " 'Monday',\n",
       " 'MondayNight',\n",
       " 'Tuesday']"
      ]
     },
     "execution_count": 13,
     "metadata": {},
     "output_type": "execute_result"
    }
   ],
   "source": [
    "periods = [pt.get_text() for pt in period_tags]\n",
    "periods"
   ]
  },
  {
   "cell_type": "code",
   "execution_count": 14,
   "id": "389d2ff7",
   "metadata": {},
   "outputs": [
    {
     "data": {
      "text/plain": [
       "['Sunny',\n",
       " 'Mostly Clearthen Haze',\n",
       " 'Haze thenSunny',\n",
       " 'Mostly Clear',\n",
       " 'Sunny',\n",
       " 'Partly Cloudythen Haze',\n",
       " 'Partly Sunny',\n",
       " 'Partly Cloudy',\n",
       " 'Sunny']"
      ]
     },
     "execution_count": 14,
     "metadata": {},
     "output_type": "execute_result"
    }
   ],
   "source": [
    "short_descs = [sd.get_text() for sd in seven_day.select(\".tombstone-container .short-desc\")]\n",
    "short_descs"
   ]
  },
  {
   "cell_type": "code",
   "execution_count": 15,
   "id": "3fcc6647",
   "metadata": {},
   "outputs": [
    {
     "data": {
      "text/plain": [
       "['High: 74 °F',\n",
       " 'Low: 51 °F',\n",
       " 'High: 72 °F',\n",
       " 'Low: 51 °F',\n",
       " 'High: 71 °F',\n",
       " 'Low: 51 °F',\n",
       " 'High: 61 °F',\n",
       " 'Low: 47 °F',\n",
       " 'High: 62 °F']"
      ]
     },
     "execution_count": 15,
     "metadata": {},
     "output_type": "execute_result"
    }
   ],
   "source": [
    "temps = [t.get_text() for t in seven_day.select(\".tombstone-container .temp\")]\n",
    "temps"
   ]
  },
  {
   "cell_type": "code",
   "execution_count": 16,
   "id": "98453c43",
   "metadata": {},
   "outputs": [
    {
     "data": {
      "text/plain": [
       "['Today: Sunny, with a high near 74. North wind 5 to 11 mph becoming west northwest in the afternoon. ',\n",
       " 'Tonight: Widespread haze after 3am. Partly cloudy, with a low around 51. West wind 5 to 8 mph becoming calm  after midnight. ',\n",
       " 'Saturday: Widespread haze before 9am. Sunny, with a high near 72. North northeast wind around 6 mph. ',\n",
       " 'Saturday Night: Mostly clear, with a low around 51. West wind around 6 mph becoming calm  in the evening. ',\n",
       " 'Sunday: Sunny, with a high near 71. Light and variable wind becoming west northwest 5 to 10 mph in the afternoon. ',\n",
       " 'Sunday Night: Widespread haze between 4am and 5am. Partly cloudy, with a low around 51.',\n",
       " 'Monday: Partly sunny, with a high near 61.',\n",
       " 'Monday Night: Partly cloudy, with a low around 47.',\n",
       " 'Tuesday: Sunny, with a high near 62.']"
      ]
     },
     "execution_count": 16,
     "metadata": {},
     "output_type": "execute_result"
    }
   ],
   "source": [
    "titles = [t['title'] for t in seven_day.select(\".tombstone-container img\")]\n",
    "titles"
   ]
  },
  {
   "cell_type": "markdown",
   "id": "66db69c5",
   "metadata": {},
   "source": [
    "## Display result with pandas"
   ]
  },
  {
   "cell_type": "code",
   "execution_count": 17,
   "id": "645d1cab",
   "metadata": {},
   "outputs": [],
   "source": [
    "import pandas as pd"
   ]
  },
  {
   "cell_type": "code",
   "execution_count": 18,
   "id": "4d9c284a",
   "metadata": {},
   "outputs": [
    {
     "data": {
      "text/html": [
       "<div>\n",
       "<style scoped>\n",
       "    .dataframe tbody tr th:only-of-type {\n",
       "        vertical-align: middle;\n",
       "    }\n",
       "\n",
       "    .dataframe tbody tr th {\n",
       "        vertical-align: top;\n",
       "    }\n",
       "\n",
       "    .dataframe thead th {\n",
       "        text-align: right;\n",
       "    }\n",
       "</style>\n",
       "<table border=\"1\" class=\"dataframe\">\n",
       "  <thead>\n",
       "    <tr style=\"text-align: right;\">\n",
       "      <th></th>\n",
       "      <th>periods</th>\n",
       "      <th>short_descs</th>\n",
       "      <th>temps</th>\n",
       "      <th>titles</th>\n",
       "    </tr>\n",
       "  </thead>\n",
       "  <tbody>\n",
       "    <tr>\n",
       "      <th>0</th>\n",
       "      <td>Today</td>\n",
       "      <td>Sunny</td>\n",
       "      <td>High: 74 °F</td>\n",
       "      <td>Today: Sunny, with a high near 74. North wind ...</td>\n",
       "    </tr>\n",
       "    <tr>\n",
       "      <th>1</th>\n",
       "      <td>Tonight</td>\n",
       "      <td>Mostly Clearthen Haze</td>\n",
       "      <td>Low: 51 °F</td>\n",
       "      <td>Tonight: Widespread haze after 3am. Partly clo...</td>\n",
       "    </tr>\n",
       "    <tr>\n",
       "      <th>2</th>\n",
       "      <td>Saturday</td>\n",
       "      <td>Haze thenSunny</td>\n",
       "      <td>High: 72 °F</td>\n",
       "      <td>Saturday: Widespread haze before 9am. Sunny, w...</td>\n",
       "    </tr>\n",
       "    <tr>\n",
       "      <th>3</th>\n",
       "      <td>SaturdayNight</td>\n",
       "      <td>Mostly Clear</td>\n",
       "      <td>Low: 51 °F</td>\n",
       "      <td>Saturday Night: Mostly clear, with a low aroun...</td>\n",
       "    </tr>\n",
       "    <tr>\n",
       "      <th>4</th>\n",
       "      <td>Sunday</td>\n",
       "      <td>Sunny</td>\n",
       "      <td>High: 71 °F</td>\n",
       "      <td>Sunday: Sunny, with a high near 71. Light and ...</td>\n",
       "    </tr>\n",
       "    <tr>\n",
       "      <th>5</th>\n",
       "      <td>SundayNight</td>\n",
       "      <td>Partly Cloudythen Haze</td>\n",
       "      <td>Low: 51 °F</td>\n",
       "      <td>Sunday Night: Widespread haze between 4am and ...</td>\n",
       "    </tr>\n",
       "    <tr>\n",
       "      <th>6</th>\n",
       "      <td>Monday</td>\n",
       "      <td>Partly Sunny</td>\n",
       "      <td>High: 61 °F</td>\n",
       "      <td>Monday: Partly sunny, with a high near 61.</td>\n",
       "    </tr>\n",
       "    <tr>\n",
       "      <th>7</th>\n",
       "      <td>MondayNight</td>\n",
       "      <td>Partly Cloudy</td>\n",
       "      <td>Low: 47 °F</td>\n",
       "      <td>Monday Night: Partly cloudy, with a low around...</td>\n",
       "    </tr>\n",
       "    <tr>\n",
       "      <th>8</th>\n",
       "      <td>Tuesday</td>\n",
       "      <td>Sunny</td>\n",
       "      <td>High: 62 °F</td>\n",
       "      <td>Tuesday: Sunny, with a high near 62.</td>\n",
       "    </tr>\n",
       "  </tbody>\n",
       "</table>\n",
       "</div>"
      ],
      "text/plain": [
       "         periods             short_descs        temps  \\\n",
       "0          Today                   Sunny  High: 74 °F   \n",
       "1        Tonight   Mostly Clearthen Haze   Low: 51 °F   \n",
       "2       Saturday          Haze thenSunny  High: 72 °F   \n",
       "3  SaturdayNight            Mostly Clear   Low: 51 °F   \n",
       "4         Sunday                   Sunny  High: 71 °F   \n",
       "5    SundayNight  Partly Cloudythen Haze   Low: 51 °F   \n",
       "6         Monday            Partly Sunny  High: 61 °F   \n",
       "7    MondayNight           Partly Cloudy   Low: 47 °F   \n",
       "8        Tuesday                   Sunny  High: 62 °F   \n",
       "\n",
       "                                              titles  \n",
       "0  Today: Sunny, with a high near 74. North wind ...  \n",
       "1  Tonight: Widespread haze after 3am. Partly clo...  \n",
       "2  Saturday: Widespread haze before 9am. Sunny, w...  \n",
       "3  Saturday Night: Mostly clear, with a low aroun...  \n",
       "4  Sunday: Sunny, with a high near 71. Light and ...  \n",
       "5  Sunday Night: Widespread haze between 4am and ...  \n",
       "6         Monday: Partly sunny, with a high near 61.  \n",
       "7  Monday Night: Partly cloudy, with a low around...  \n",
       "8               Tuesday: Sunny, with a high near 62.  "
      ]
     },
     "execution_count": 18,
     "metadata": {},
     "output_type": "execute_result"
    }
   ],
   "source": [
    "weather = pd.DataFrame({\"periods\" : periods, \"short_descs\" : short_descs, \"temps\" : temps, \"titles\" : titles})\n",
    "weather"
   ]
  }
 ],
 "metadata": {
  "kernelspec": {
   "display_name": "Python 3 (ipykernel)",
   "language": "python",
   "name": "python3"
  },
  "language_info": {
   "codemirror_mode": {
    "name": "ipython",
    "version": 3
   },
   "file_extension": ".py",
   "mimetype": "text/x-python",
   "name": "python",
   "nbconvert_exporter": "python",
   "pygments_lexer": "ipython3",
   "version": "3.9.7"
  }
 },
 "nbformat": 4,
 "nbformat_minor": 5
}
